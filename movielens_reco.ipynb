{
 "cells": [
  {
   "cell_type": "code",
   "execution_count": 1,
   "id": "4a3d5083",
   "metadata": {},
   "outputs": [],
   "source": [
    "import pandas as pd"
   ]
  },
  {
   "cell_type": "markdown",
   "id": "03ab5d13",
   "metadata": {},
   "source": [
    "## Movie dataset"
   ]
  },
  {
   "cell_type": "code",
   "execution_count": null,
   "id": "9439dcf7",
   "metadata": {},
   "outputs": [],
   "source": [
    "df_movies = pd.read_csv('./datasets/movies.csv')"
   ]
  },
  {
   "cell_type": "code",
   "execution_count": 3,
   "id": "e48f6c22",
   "metadata": {},
   "outputs": [
    {
     "data": {
      "text/html": [
       "<div>\n",
       "<style scoped>\n",
       "    .dataframe tbody tr th:only-of-type {\n",
       "        vertical-align: middle;\n",
       "    }\n",
       "\n",
       "    .dataframe tbody tr th {\n",
       "        vertical-align: top;\n",
       "    }\n",
       "\n",
       "    .dataframe thead th {\n",
       "        text-align: right;\n",
       "    }\n",
       "</style>\n",
       "<table border=\"1\" class=\"dataframe\">\n",
       "  <thead>\n",
       "    <tr style=\"text-align: right;\">\n",
       "      <th></th>\n",
       "      <th>movieId</th>\n",
       "      <th>title</th>\n",
       "      <th>genres</th>\n",
       "    </tr>\n",
       "  </thead>\n",
       "  <tbody>\n",
       "    <tr>\n",
       "      <th>0</th>\n",
       "      <td>1</td>\n",
       "      <td>Toy Story (1995)</td>\n",
       "      <td>Adventure|Animation|Children|Comedy|Fantasy</td>\n",
       "    </tr>\n",
       "    <tr>\n",
       "      <th>1</th>\n",
       "      <td>2</td>\n",
       "      <td>Jumanji (1995)</td>\n",
       "      <td>Adventure|Children|Fantasy</td>\n",
       "    </tr>\n",
       "    <tr>\n",
       "      <th>2</th>\n",
       "      <td>3</td>\n",
       "      <td>Grumpier Old Men (1995)</td>\n",
       "      <td>Comedy|Romance</td>\n",
       "    </tr>\n",
       "    <tr>\n",
       "      <th>3</th>\n",
       "      <td>4</td>\n",
       "      <td>Waiting to Exhale (1995)</td>\n",
       "      <td>Comedy|Drama|Romance</td>\n",
       "    </tr>\n",
       "    <tr>\n",
       "      <th>4</th>\n",
       "      <td>5</td>\n",
       "      <td>Father of the Bride Part II (1995)</td>\n",
       "      <td>Comedy</td>\n",
       "    </tr>\n",
       "  </tbody>\n",
       "</table>\n",
       "</div>"
      ],
      "text/plain": [
       "   movieId                               title  \\\n",
       "0        1                    Toy Story (1995)   \n",
       "1        2                      Jumanji (1995)   \n",
       "2        3             Grumpier Old Men (1995)   \n",
       "3        4            Waiting to Exhale (1995)   \n",
       "4        5  Father of the Bride Part II (1995)   \n",
       "\n",
       "                                        genres  \n",
       "0  Adventure|Animation|Children|Comedy|Fantasy  \n",
       "1                   Adventure|Children|Fantasy  \n",
       "2                               Comedy|Romance  \n",
       "3                         Comedy|Drama|Romance  \n",
       "4                                       Comedy  "
      ]
     },
     "execution_count": 3,
     "metadata": {},
     "output_type": "execute_result"
    }
   ],
   "source": [
    "df_movies.head()"
   ]
  },
  {
   "cell_type": "code",
   "execution_count": 4,
   "id": "08cce345",
   "metadata": {},
   "outputs": [
    {
     "name": "stdout",
     "output_type": "stream",
     "text": [
      "<class 'pandas.core.frame.DataFrame'>\n",
      "RangeIndex: 87585 entries, 0 to 87584\n",
      "Data columns (total 3 columns):\n",
      " #   Column   Non-Null Count  Dtype \n",
      "---  ------   --------------  ----- \n",
      " 0   movieId  87585 non-null  int64 \n",
      " 1   title    87585 non-null  object\n",
      " 2   genres   87585 non-null  object\n",
      "dtypes: int64(1), object(2)\n",
      "memory usage: 2.0+ MB\n"
     ]
    }
   ],
   "source": [
    "df_movies.info()"
   ]
  },
  {
   "cell_type": "markdown",
   "id": "e743ea53",
   "metadata": {},
   "source": [
    "## Ratings dataset"
   ]
  },
  {
   "cell_type": "code",
   "execution_count": 4,
   "id": "6002d89c",
   "metadata": {},
   "outputs": [],
   "source": [
    "df_ratings = pd.read_csv('./datasets/ratings.csv')"
   ]
  },
  {
   "cell_type": "code",
   "execution_count": 5,
   "id": "43f1a724",
   "metadata": {},
   "outputs": [
    {
     "data": {
      "text/html": [
       "<div>\n",
       "<style scoped>\n",
       "    .dataframe tbody tr th:only-of-type {\n",
       "        vertical-align: middle;\n",
       "    }\n",
       "\n",
       "    .dataframe tbody tr th {\n",
       "        vertical-align: top;\n",
       "    }\n",
       "\n",
       "    .dataframe thead th {\n",
       "        text-align: right;\n",
       "    }\n",
       "</style>\n",
       "<table border=\"1\" class=\"dataframe\">\n",
       "  <thead>\n",
       "    <tr style=\"text-align: right;\">\n",
       "      <th></th>\n",
       "      <th>userId</th>\n",
       "      <th>movieId</th>\n",
       "      <th>rating</th>\n",
       "      <th>timestamp</th>\n",
       "    </tr>\n",
       "  </thead>\n",
       "  <tbody>\n",
       "    <tr>\n",
       "      <th>0</th>\n",
       "      <td>1</td>\n",
       "      <td>17</td>\n",
       "      <td>4.0</td>\n",
       "      <td>944249077</td>\n",
       "    </tr>\n",
       "    <tr>\n",
       "      <th>1</th>\n",
       "      <td>1</td>\n",
       "      <td>25</td>\n",
       "      <td>1.0</td>\n",
       "      <td>944250228</td>\n",
       "    </tr>\n",
       "    <tr>\n",
       "      <th>2</th>\n",
       "      <td>1</td>\n",
       "      <td>29</td>\n",
       "      <td>2.0</td>\n",
       "      <td>943230976</td>\n",
       "    </tr>\n",
       "    <tr>\n",
       "      <th>3</th>\n",
       "      <td>1</td>\n",
       "      <td>30</td>\n",
       "      <td>5.0</td>\n",
       "      <td>944249077</td>\n",
       "    </tr>\n",
       "    <tr>\n",
       "      <th>4</th>\n",
       "      <td>1</td>\n",
       "      <td>32</td>\n",
       "      <td>5.0</td>\n",
       "      <td>943228858</td>\n",
       "    </tr>\n",
       "  </tbody>\n",
       "</table>\n",
       "</div>"
      ],
      "text/plain": [
       "   userId  movieId  rating  timestamp\n",
       "0       1       17     4.0  944249077\n",
       "1       1       25     1.0  944250228\n",
       "2       1       29     2.0  943230976\n",
       "3       1       30     5.0  944249077\n",
       "4       1       32     5.0  943228858"
      ]
     },
     "execution_count": 5,
     "metadata": {},
     "output_type": "execute_result"
    }
   ],
   "source": [
    "df_ratings.head()"
   ]
  },
  {
   "cell_type": "code",
   "execution_count": 6,
   "id": "d8f879f7",
   "metadata": {},
   "outputs": [
    {
     "name": "stdout",
     "output_type": "stream",
     "text": [
      "<class 'pandas.core.frame.DataFrame'>\n",
      "RangeIndex: 32000204 entries, 0 to 32000203\n",
      "Data columns (total 4 columns):\n",
      " #   Column     Dtype  \n",
      "---  ------     -----  \n",
      " 0   userId     int64  \n",
      " 1   movieId    int64  \n",
      " 2   rating     float64\n",
      " 3   timestamp  int64  \n",
      "dtypes: float64(1), int64(3)\n",
      "memory usage: 976.6 MB\n"
     ]
    }
   ],
   "source": [
    "df_ratings.info()"
   ]
  },
  {
   "cell_type": "code",
   "execution_count": 7,
   "id": "4e9b4673",
   "metadata": {},
   "outputs": [
    {
     "data": {
      "text/plain": [
       "count    3.200020e+07\n",
       "mean     3.540396e+00\n",
       "std      1.058986e+00\n",
       "min      5.000000e-01\n",
       "25%      3.000000e+00\n",
       "50%      3.500000e+00\n",
       "75%      4.000000e+00\n",
       "max      5.000000e+00\n",
       "Name: rating, dtype: float64"
      ]
     },
     "execution_count": 7,
     "metadata": {},
     "output_type": "execute_result"
    }
   ],
   "source": [
    "df_ratings['rating'].describe()"
   ]
  },
  {
   "cell_type": "code",
   "execution_count": 8,
   "id": "5881bf0e",
   "metadata": {},
   "outputs": [],
   "source": [
    "df = pd.merge(df_ratings, df_movies, on='movieId')"
   ]
  },
  {
   "cell_type": "code",
   "execution_count": 11,
   "id": "bb81f17a",
   "metadata": {},
   "outputs": [],
   "source": [
    "import pandas as pd\n",
    "from sklearn.feature_extraction.text import CountVectorizer\n",
    "from sklearn.metrics.pairwise import cosine_similarity\n",
    "from scipy.sparse import csr_matrix\n",
    "import numpy as np\n",
    "\n",
    "# --- 1. Préparer les données communes ---\n",
    "\n",
    "# Supprimer les genres manquants\n",
    "df_movies['genres'] = df_movies['genres'].fillna(\"\")\n",
    "\n",
    "# Garde uniquement les films qui ont été notés\n",
    "rated_movie_ids = df_ratings['movieId'].unique()\n",
    "df_common_movies = df_movies[df_movies['movieId'].isin(rated_movie_ids)].reset_index(drop=True)\n",
    "\n",
    "# Remappage movieId ↔ index\n",
    "movie_id_to_index = pd.Series(df_common_movies.index, index=df_common_movies['movieId']).to_dict()\n",
    "index_to_title = pd.Series(df_common_movies['title'].values, index=df_common_movies.index).to_dict()\n",
    "title_to_index = pd.Series(df_common_movies.index, index=df_common_movies['title']).to_dict()\n",
    "\n",
    "# --- 2. Matrice sparse des genres ---\n",
    "\n",
    "vectorizer = CountVectorizer(tokenizer=lambda x: x.split('|'))\n",
    "genre_matrix_sparse = vectorizer.fit_transform(df_common_movies['genres'])\n",
    "\n",
    "# --- 3. Matrice sparse film-utilisateur (collaboratif) ---\n",
    "\n",
    "# Recaler les indices movie/user pour matrice sparse\n",
    "df_ratings_filtered = df_ratings[df_ratings['movieId'].isin(rated_movie_ids)].copy()\n",
    "df_ratings_filtered['movie_index'] = df_ratings_filtered['movieId'].map(movie_id_to_index)\n",
    "df_ratings_filtered['user_index'] = df_ratings_filtered['userId'].astype(\"category\").cat.codes\n",
    "\n",
    "movie_user_matrix = csr_matrix((\n",
    "    df_ratings_filtered['rating'],\n",
    "    (df_ratings_filtered['movie_index'], df_ratings_filtered['user_index'])\n",
    "))\n",
    "\n",
    "# --- 4. Fonction hybride ---\n",
    "\n",
    "def recommend_hybrid(movie_title, top_n=5, alpha=0.5):\n",
    "    \"\"\"\n",
    "    Recommandation hybride (ratings + genres)\n",
    "    alpha = poids ratings (1 = full ratings, 0 = full genres)\n",
    "    \"\"\"\n",
    "    if movie_title not in title_to_index:\n",
    "        return []\n",
    "    \n",
    "    idx = title_to_index[movie_title]\n",
    "\n",
    "    # Similarité par genres\n",
    "    genre_sim = cosine_similarity(genre_matrix_sparse[idx], genre_matrix_sparse).flatten()\n",
    "\n",
    "    # Similarité par ratings\n",
    "    rating_sim = cosine_similarity(movie_user_matrix[idx], movie_user_matrix).flatten()\n",
    "\n",
    "    # Score combiné\n",
    "    combined_score = alpha * rating_sim + (1 - alpha) * genre_sim\n",
    "\n",
    "    # Trier, exclure le film lui-même\n",
    "    top_indices = combined_score.argsort()[::-1]\n",
    "    top_indices = [i for i in top_indices if i != idx][:top_n]\n",
    "\n",
    "    return [index_to_title[i] for i in top_indices]\n"
   ]
  },
  {
   "cell_type": "code",
   "execution_count": 14,
   "id": "dcef8026",
   "metadata": {},
   "outputs": [
    {
     "name": "stdout",
     "output_type": "stream",
     "text": [
      "['Toy Story 2 (1999)', 'Monsters, Inc. (2001)', 'Shrek (2001)', 'Finding Nemo (2003)', \"Bug's Life, A (1998)\"]\n"
     ]
    }
   ],
   "source": [
    "# 60% basé sur les ratings, 40% sur les genres\n",
    "print(recommend_hybrid(\"Toy Story (1995)\", top_n=5, alpha=0.5))"
   ]
  },
  {
   "cell_type": "code",
   "execution_count": 15,
   "id": "f9fce730",
   "metadata": {},
   "outputs": [],
   "source": [
    "from collections import Counter\n",
    "\n",
    "def recommend_hybrid_for_user(user_id, top_n=10, alpha=0.5, like_threshold=4.0):\n",
    "    \"\"\"\n",
    "    Recommande des films à un utilisateur en combinant ratings et genres.\n",
    "    - alpha : poids des ratings (0 = que genres, 1 = que ratings)\n",
    "    - like_threshold : on considère qu’un utilisateur aime un film si rating ≥ seuil\n",
    "    \"\"\"\n",
    "    if user_id not in df_ratings['userId'].unique():\n",
    "        return []\n",
    "\n",
    "    # 1. Films que l'utilisateur a aimés\n",
    "    liked = df_ratings_filtered[\n",
    "        (df_ratings_filtered['userId'] == user_id) &\n",
    "        (df_ratings_filtered['rating'] >= like_threshold)\n",
    "    ]['movie_index'].dropna().unique()\n",
    "\n",
    "    if len(liked) == 0:\n",
    "        return []\n",
    "\n",
    "    # 2. Cumuler les recommandations hybrides pour chaque film aimé\n",
    "    all_recos = []\n",
    "    for idx in liked:\n",
    "        recos = recommend_hybrid(index_to_title[idx], top_n=top_n, alpha=alpha)\n",
    "        all_recos.extend(recos)\n",
    "\n",
    "    # 3. Compter les apparitions (pondération implicite)\n",
    "    reco_counts = Counter(all_recos)\n",
    "\n",
    "    # 4. Supprimer les films déjà vus\n",
    "    already_seen = df_ratings_filtered[df_ratings_filtered['userId'] == user_id]['movie_index'].map(index_to_title).dropna().tolist()\n",
    "    filtered_recos = [title for title, _ in reco_counts.most_common() if title not in already_seen]\n",
    "\n",
    "    return filtered_recos[:top_n]\n"
   ]
  },
  {
   "cell_type": "code",
   "execution_count": 16,
   "id": "232e9394",
   "metadata": {},
   "outputs": [
    {
     "name": "stdout",
     "output_type": "stream",
     "text": [
      "Recommandations pour l'utilisateur 1 :\n",
      "['Godfather, The (1972)', 'Total Recall (1990)', \"One Flew Over the Cuckoo's Nest (1975)\", 'Full Metal Jacket (1987)', 'Raising Arizona (1987)']\n"
     ]
    }
   ],
   "source": [
    "print(\"Recommandations pour l'utilisateur 1 :\")\n",
    "print(recommend_hybrid_for_user(user_id=1, top_n=5, alpha=0.7))"
   ]
  }
 ],
 "metadata": {
  "kernelspec": {
   "display_name": "Python 3",
   "language": "python",
   "name": "python3"
  },
  "language_info": {
   "codemirror_mode": {
    "name": "ipython",
    "version": 3
   },
   "file_extension": ".py",
   "mimetype": "text/x-python",
   "name": "python",
   "nbconvert_exporter": "python",
   "pygments_lexer": "ipython3",
   "version": "3.12.3"
  }
 },
 "nbformat": 4,
 "nbformat_minor": 5
}
