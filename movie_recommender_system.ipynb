{
 "cells": [
  {
   "cell_type": "markdown",
   "id": "4fed15c6",
   "metadata": {},
   "source": [
    "# Movie Recommender System\n",
    "\n",
    "I wanted to create a data science project that would be both technically challenging and personally meaningful.  \n",
    "As a passionate movie enthusiast, building a movie recommender system felt like the perfect combination of challenge and interest.\n",
    "\n",
    "This project explores the development of a **hybrid movie recommender system**, blending both:\n",
    "\n",
    "- **Collaborative Filtering** (based on user ratings and behavior)\n",
    "- **Content-Based Filtering** (using genres and movie features)\n",
    "\n",
    "Throughout this notebook, I implement and compare different recommendation strategies, evaluate them using offline metrics like **Recall@K**, **MAP@K**, and **genre diversity**, and reflect on the trade-offs between personalization and diversity in recommender systems.\n",
    "\n",
    "This project allowed me to deepen my skills in:\n",
    "- Sparse matrix operations and vectorization\n",
    "- Similarity metrics (cosine similarity)\n",
    "- Recommender system design\n",
    "- Evaluation and validation of model performance\n",
    "\n",
    "---\n",
    "## Library Imports\n",
    "\n"
   ]
  },
  {
   "cell_type": "code",
   "execution_count": 68,
   "id": "c3330ee9",
   "metadata": {},
   "outputs": [],
   "source": [
    "\n",
    "import pandas as pd\n",
    "from collections import defaultdict\n",
    "from sklearn.feature_extraction.text import CountVectorizer\n",
    "from sklearn.metrics.pairwise import cosine_similarity\n",
    "from scipy.sparse import csr_matrix\n",
    "import numpy as np\n",
    "from collections import Counter\n",
    "import matplotlib.pyplot as plt\n",
    "import seaborn as sns"
   ]
  },
  {
   "cell_type": "markdown",
   "id": "c093657f",
   "metadata": {},
   "source": [
    "---\n",
    "## Data Loading, Cleaning and Overview\n",
    "\n",
    "### Movies Dataset"
   ]
  },
  {
   "cell_type": "code",
   "execution_count": 2,
   "id": "dc0ac548",
   "metadata": {},
   "outputs": [],
   "source": [
    "df_movies = pd.read_csv(\"https://huggingface.co/datasets/nasserCha/movielens_ratings_32m/resolve/main/movies.csv\")"
   ]
  },
  {
   "cell_type": "code",
   "execution_count": 3,
   "id": "2a640f70",
   "metadata": {},
   "outputs": [
    {
     "data": {
      "text/html": [
       "<div>\n",
       "<style scoped>\n",
       "    .dataframe tbody tr th:only-of-type {\n",
       "        vertical-align: middle;\n",
       "    }\n",
       "\n",
       "    .dataframe tbody tr th {\n",
       "        vertical-align: top;\n",
       "    }\n",
       "\n",
       "    .dataframe thead th {\n",
       "        text-align: right;\n",
       "    }\n",
       "</style>\n",
       "<table border=\"1\" class=\"dataframe\">\n",
       "  <thead>\n",
       "    <tr style=\"text-align: right;\">\n",
       "      <th></th>\n",
       "      <th>movieId</th>\n",
       "      <th>title</th>\n",
       "      <th>genres</th>\n",
       "    </tr>\n",
       "  </thead>\n",
       "  <tbody>\n",
       "    <tr>\n",
       "      <th>0</th>\n",
       "      <td>1</td>\n",
       "      <td>Toy Story (1995)</td>\n",
       "      <td>Adventure|Animation|Children|Comedy|Fantasy</td>\n",
       "    </tr>\n",
       "    <tr>\n",
       "      <th>1</th>\n",
       "      <td>2</td>\n",
       "      <td>Jumanji (1995)</td>\n",
       "      <td>Adventure|Children|Fantasy</td>\n",
       "    </tr>\n",
       "    <tr>\n",
       "      <th>2</th>\n",
       "      <td>3</td>\n",
       "      <td>Grumpier Old Men (1995)</td>\n",
       "      <td>Comedy|Romance</td>\n",
       "    </tr>\n",
       "    <tr>\n",
       "      <th>3</th>\n",
       "      <td>4</td>\n",
       "      <td>Waiting to Exhale (1995)</td>\n",
       "      <td>Comedy|Drama|Romance</td>\n",
       "    </tr>\n",
       "    <tr>\n",
       "      <th>4</th>\n",
       "      <td>5</td>\n",
       "      <td>Father of the Bride Part II (1995)</td>\n",
       "      <td>Comedy</td>\n",
       "    </tr>\n",
       "  </tbody>\n",
       "</table>\n",
       "</div>"
      ],
      "text/plain": [
       "   movieId                               title  \\\n",
       "0        1                    Toy Story (1995)   \n",
       "1        2                      Jumanji (1995)   \n",
       "2        3             Grumpier Old Men (1995)   \n",
       "3        4            Waiting to Exhale (1995)   \n",
       "4        5  Father of the Bride Part II (1995)   \n",
       "\n",
       "                                        genres  \n",
       "0  Adventure|Animation|Children|Comedy|Fantasy  \n",
       "1                   Adventure|Children|Fantasy  \n",
       "2                               Comedy|Romance  \n",
       "3                         Comedy|Drama|Romance  \n",
       "4                                       Comedy  "
      ]
     },
     "execution_count": 3,
     "metadata": {},
     "output_type": "execute_result"
    }
   ],
   "source": [
    "df_movies.head()"
   ]
  },
  {
   "cell_type": "code",
   "execution_count": 4,
   "id": "7007d2a9",
   "metadata": {},
   "outputs": [
    {
     "name": "stdout",
     "output_type": "stream",
     "text": [
      "<class 'pandas.core.frame.DataFrame'>\n",
      "RangeIndex: 87585 entries, 0 to 87584\n",
      "Data columns (total 3 columns):\n",
      " #   Column   Non-Null Count  Dtype \n",
      "---  ------   --------------  ----- \n",
      " 0   movieId  87585 non-null  int64 \n",
      " 1   title    87585 non-null  object\n",
      " 2   genres   87585 non-null  object\n",
      "dtypes: int64(1), object(2)\n",
      "memory usage: 2.0+ MB\n"
     ]
    }
   ],
   "source": [
    "df_movies.info()"
   ]
  },
  {
   "cell_type": "code",
   "execution_count": 5,
   "id": "86a1191b",
   "metadata": {},
   "outputs": [
    {
     "data": {
      "text/html": [
       "<div>\n",
       "<style scoped>\n",
       "    .dataframe tbody tr th:only-of-type {\n",
       "        vertical-align: middle;\n",
       "    }\n",
       "\n",
       "    .dataframe tbody tr th {\n",
       "        vertical-align: top;\n",
       "    }\n",
       "\n",
       "    .dataframe thead th {\n",
       "        text-align: right;\n",
       "    }\n",
       "</style>\n",
       "<table border=\"1\" class=\"dataframe\">\n",
       "  <thead>\n",
       "    <tr style=\"text-align: right;\">\n",
       "      <th></th>\n",
       "      <th>movieId</th>\n",
       "      <th>title</th>\n",
       "      <th>genres</th>\n",
       "    </tr>\n",
       "  </thead>\n",
       "  <tbody>\n",
       "    <tr>\n",
       "      <th>0</th>\n",
       "      <td>1</td>\n",
       "      <td>Toy Story (1995)</td>\n",
       "      <td>Adventure|Animation|Children|Comedy|Fantasy</td>\n",
       "    </tr>\n",
       "    <tr>\n",
       "      <th>1</th>\n",
       "      <td>2</td>\n",
       "      <td>Jumanji (1995)</td>\n",
       "      <td>Adventure|Children|Fantasy</td>\n",
       "    </tr>\n",
       "    <tr>\n",
       "      <th>2</th>\n",
       "      <td>3</td>\n",
       "      <td>Grumpier Old Men (1995)</td>\n",
       "      <td>Comedy|Romance</td>\n",
       "    </tr>\n",
       "    <tr>\n",
       "      <th>3</th>\n",
       "      <td>4</td>\n",
       "      <td>Waiting to Exhale (1995)</td>\n",
       "      <td>Comedy|Drama|Romance</td>\n",
       "    </tr>\n",
       "    <tr>\n",
       "      <th>4</th>\n",
       "      <td>5</td>\n",
       "      <td>Father of the Bride Part II (1995)</td>\n",
       "      <td>Comedy</td>\n",
       "    </tr>\n",
       "  </tbody>\n",
       "</table>\n",
       "</div>"
      ],
      "text/plain": [
       "   movieId                               title  \\\n",
       "0        1                    Toy Story (1995)   \n",
       "1        2                      Jumanji (1995)   \n",
       "2        3             Grumpier Old Men (1995)   \n",
       "3        4            Waiting to Exhale (1995)   \n",
       "4        5  Father of the Bride Part II (1995)   \n",
       "\n",
       "                                        genres  \n",
       "0  Adventure|Animation|Children|Comedy|Fantasy  \n",
       "1                   Adventure|Children|Fantasy  \n",
       "2                               Comedy|Romance  \n",
       "3                         Comedy|Drama|Romance  \n",
       "4                                       Comedy  "
      ]
     },
     "execution_count": 5,
     "metadata": {},
     "output_type": "execute_result"
    }
   ],
   "source": [
    "df_movies.head()"
   ]
  },
  {
   "cell_type": "code",
   "execution_count": null,
   "id": "84855931",
   "metadata": {},
   "outputs": [
    {
     "data": {
      "text/plain": [
       "Text(0.5, 0, 'Genre')"
      ]
     },
     "execution_count": 70,
     "metadata": {},
     "output_type": "execute_result"
    },
    {
     "data": {
      "image/png": "[encoded data removed]",
      "text/plain": [
       "<Figure size 1200x600 with 1 Axes>"
      ]
     },
     "metadata": {},
     "output_type": "display_data"
    }
   ],
   "source": [
    "genre_counts = Counter([genre for sublist in df_movies['genres'].str.split('|') for genre in sublist])\n",
    "plt.figure(figsize=(12, 6))\n",
    "sns.barplot(x=list(genre_counts.keys()), y=list(genre_counts.values()))\n",
    "plt.xticks(rotation=90)\n",
    "plt.title('Distribution of Movie Genres')\n",
    "plt.xlabel('Genre')"
   ]
  },
  {
   "cell_type": "code",
   "execution_count": 80,
   "id": "9239d85a",
   "metadata": {},
   "outputs": [],
   "source": [
    "def extract_year(df_movies):\n",
    "    df_movies['year'] = df_movies['title'].str.extract(r'\\((\\d{4})\\)').astype(float)\n",
    "    return df_movies\n",
    "\n",
    "df_movies = extract_year(df_movies)"
   ]
  },
  {
   "cell_type": "code",
   "execution_count": 81,
   "id": "7c8644b4",
   "metadata": {},
   "outputs": [
    {
     "data": {
      "image/png": "[encoded data removed]",
      "text/plain": [
       "<Figure size 1200x600 with 1 Axes>"
      ]
     },
     "metadata": {},
     "output_type": "display_data"
    }
   ],
   "source": [
    "plt.figure(figsize=(12, 6))\n",
    "sns.histplot(df_movies['year'], bins=30, kde=True)\n",
    "plt.title('Distribution of Movie Release Years')\n",
    "plt.xlabel('Year')\n",
    "plt.ylabel('Frequency')\n",
    "plt.show()"
   ]
  },
  {
   "cell_type": "markdown",
   "id": "f7792cc2",
   "metadata": {},
   "source": [
    "---\n",
    "### Ratings Dataset"
   ]
  },
  {
   "cell_type": "code",
   "execution_count": 7,
   "id": "bf6e15a8",
   "metadata": {},
   "outputs": [],
   "source": [
    "df_ratings = pd.read_csv(\"https://huggingface.co/datasets/nasserCha/movielens_ratings_32m/resolve/main/ratings.csv\")"
   ]
  },
  {
   "cell_type": "code",
   "execution_count": 8,
   "id": "9bc8c256",
   "metadata": {},
   "outputs": [
    {
     "data": {
      "text/html": [
       "<div>\n",
       "<style scoped>\n",
       "    .dataframe tbody tr th:only-of-type {\n",
       "        vertical-align: middle;\n",
       "    }\n",
       "\n",
       "    .dataframe tbody tr th {\n",
       "        vertical-align: top;\n",
       "    }\n",
       "\n",
       "    .dataframe thead th {\n",
       "        text-align: right;\n",
       "    }\n",
       "</style>\n",
       "<table border=\"1\" class=\"dataframe\">\n",
       "  <thead>\n",
       "    <tr style=\"text-align: right;\">\n",
       "      <th></th>\n",
       "      <th>userId</th>\n",
       "      <th>movieId</th>\n",
       "      <th>rating</th>\n",
       "      <th>timestamp</th>\n",
       "    </tr>\n",
       "  </thead>\n",
       "  <tbody>\n",
       "    <tr>\n",
       "      <th>0</th>\n",
       "      <td>1</td>\n",
       "      <td>17</td>\n",
       "      <td>4.0</td>\n",
       "      <td>944249077</td>\n",
       "    </tr>\n",
       "    <tr>\n",
       "      <th>1</th>\n",
       "      <td>1</td>\n",
       "      <td>25</td>\n",
       "      <td>1.0</td>\n",
       "      <td>944250228</td>\n",
       "    </tr>\n",
       "    <tr>\n",
       "      <th>2</th>\n",
       "      <td>1</td>\n",
       "      <td>29</td>\n",
       "      <td>2.0</td>\n",
       "      <td>943230976</td>\n",
       "    </tr>\n",
       "    <tr>\n",
       "      <th>3</th>\n",
       "      <td>1</td>\n",
       "      <td>30</td>\n",
       "      <td>5.0</td>\n",
       "      <td>944249077</td>\n",
       "    </tr>\n",
       "    <tr>\n",
       "      <th>4</th>\n",
       "      <td>1</td>\n",
       "      <td>32</td>\n",
       "      <td>5.0</td>\n",
       "      <td>943228858</td>\n",
       "    </tr>\n",
       "  </tbody>\n",
       "</table>\n",
       "</div>"
      ],
      "text/plain": [
       "   userId  movieId  rating  timestamp\n",
       "0       1       17     4.0  944249077\n",
       "1       1       25     1.0  944250228\n",
       "2       1       29     2.0  943230976\n",
       "3       1       30     5.0  944249077\n",
       "4       1       32     5.0  943228858"
      ]
     },
     "execution_count": 8,
     "metadata": {},
     "output_type": "execute_result"
    }
   ],
   "source": [
    "df_ratings.head()"
   ]
  },
  {
   "cell_type": "code",
   "execution_count": 9,
   "id": "131ad6c7",
   "metadata": {},
   "outputs": [
    {
     "name": "stdout",
     "output_type": "stream",
     "text": [
      "<class 'pandas.core.frame.DataFrame'>\n",
      "RangeIndex: 32000204 entries, 0 to 32000203\n",
      "Data columns (total 4 columns):\n",
      " #   Column     Dtype  \n",
      "---  ------     -----  \n",
      " 0   userId     int64  \n",
      " 1   movieId    int64  \n",
      " 2   rating     float64\n",
      " 3   timestamp  int64  \n",
      "dtypes: float64(1), int64(3)\n",
      "memory usage: 976.6 MB\n"
     ]
    }
   ],
   "source": [
    "df_ratings.info()"
   ]
  },
  {
   "cell_type": "code",
   "execution_count": 10,
   "id": "440341e4",
   "metadata": {},
   "outputs": [
    {
     "data": {
      "text/plain": [
       "count    3.200020e+07\n",
       "mean     3.540396e+00\n",
       "std      1.058986e+00\n",
       "min      5.000000e-01\n",
       "25%      3.000000e+00\n",
       "50%      3.500000e+00\n",
       "75%      4.000000e+00\n",
       "max      5.000000e+00\n",
       "Name: rating, dtype: float64"
      ]
     },
     "execution_count": 10,
     "metadata": {},
     "output_type": "execute_result"
    }
   ],
   "source": [
    "df_ratings['rating'].describe()"
   ]
  },
  {
   "cell_type": "code",
   "execution_count": null,
   "id": "9f5eed09",
   "metadata": {},
   "outputs": [
    {
     "data": {
      "image/png": "[encoded data removed]",
      "text/plain": [
       "<Figure size 1200x600 with 1 Axes>"
      ]
     },
     "metadata": {},
     "output_type": "display_data"
    }
   ],
   "source": [
    "df_ratings['rating'].value_counts().sort_index().plot(kind='bar', figsize=(12, 6))\n",
    "plt.title('Distribution of Ratings')\n",
    "plt.xlabel('Rating')\n",
    "plt.ylabel('Frequency')\n",
    "plt.show()"
   ]
  },
  {
   "cell_type": "code",
   "execution_count": 78,
   "id": "9243bb45",
   "metadata": {},
   "outputs": [
    {
     "data": {
      "text/html": [
       "<div>\n",
       "<style scoped>\n",
       "    .dataframe tbody tr th:only-of-type {\n",
       "        vertical-align: middle;\n",
       "    }\n",
       "\n",
       "    .dataframe tbody tr th {\n",
       "        vertical-align: top;\n",
       "    }\n",
       "\n",
       "    .dataframe thead th {\n",
       "        text-align: right;\n",
       "    }\n",
       "</style>\n",
       "<table border=\"1\" class=\"dataframe\">\n",
       "  <thead>\n",
       "    <tr style=\"text-align: right;\">\n",
       "      <th></th>\n",
       "      <th>title</th>\n",
       "      <th>total_ratings</th>\n",
       "      <th>avg_rating</th>\n",
       "    </tr>\n",
       "  </thead>\n",
       "  <tbody>\n",
       "    <tr>\n",
       "      <th>2</th>\n",
       "      <td>Shawshank Redemption, The (1994)</td>\n",
       "      <td>102929</td>\n",
       "      <td>4.404614</td>\n",
       "    </tr>\n",
       "    <tr>\n",
       "      <th>3</th>\n",
       "      <td>Forrest Gump (1994)</td>\n",
       "      <td>100296</td>\n",
       "      <td>4.052744</td>\n",
       "    </tr>\n",
       "    <tr>\n",
       "      <th>1</th>\n",
       "      <td>Pulp Fiction (1994)</td>\n",
       "      <td>98409</td>\n",
       "      <td>4.196969</td>\n",
       "    </tr>\n",
       "    <tr>\n",
       "      <th>7</th>\n",
       "      <td>Matrix, The (1999)</td>\n",
       "      <td>93808</td>\n",
       "      <td>4.156437</td>\n",
       "    </tr>\n",
       "    <tr>\n",
       "      <th>6</th>\n",
       "      <td>Silence of the Lambs, The (1991)</td>\n",
       "      <td>90330</td>\n",
       "      <td>4.148367</td>\n",
       "    </tr>\n",
       "    <tr>\n",
       "      <th>0</th>\n",
       "      <td>Star Wars: Episode IV - A New Hope (1977)</td>\n",
       "      <td>85010</td>\n",
       "      <td>4.099824</td>\n",
       "    </tr>\n",
       "    <tr>\n",
       "      <th>8</th>\n",
       "      <td>Fight Club (1999)</td>\n",
       "      <td>77332</td>\n",
       "      <td>4.228780</td>\n",
       "    </tr>\n",
       "    <tr>\n",
       "      <th>4</th>\n",
       "      <td>Jurassic Park (1993)</td>\n",
       "      <td>75233</td>\n",
       "      <td>3.698623</td>\n",
       "    </tr>\n",
       "    <tr>\n",
       "      <th>5</th>\n",
       "      <td>Schindler's List (1993)</td>\n",
       "      <td>73849</td>\n",
       "      <td>4.236990</td>\n",
       "    </tr>\n",
       "    <tr>\n",
       "      <th>9</th>\n",
       "      <td>Lord of the Rings: The Fellowship of the Ring,...</td>\n",
       "      <td>73122</td>\n",
       "      <td>4.092134</td>\n",
       "    </tr>\n",
       "  </tbody>\n",
       "</table>\n",
       "</div>"
      ],
      "text/plain": [
       "                                               title  total_ratings  \\\n",
       "2                   Shawshank Redemption, The (1994)         102929   \n",
       "3                                Forrest Gump (1994)         100296   \n",
       "1                                Pulp Fiction (1994)          98409   \n",
       "7                                 Matrix, The (1999)          93808   \n",
       "6                   Silence of the Lambs, The (1991)          90330   \n",
       "0          Star Wars: Episode IV - A New Hope (1977)          85010   \n",
       "8                                  Fight Club (1999)          77332   \n",
       "4                               Jurassic Park (1993)          75233   \n",
       "5                            Schindler's List (1993)          73849   \n",
       "9  Lord of the Rings: The Fellowship of the Ring,...          73122   \n",
       "\n",
       "   avg_rating  \n",
       "2    4.404614  \n",
       "3    4.052744  \n",
       "1    4.196969  \n",
       "7    4.156437  \n",
       "6    4.148367  \n",
       "0    4.099824  \n",
       "8    4.228780  \n",
       "4    3.698623  \n",
       "5    4.236990  \n",
       "9    4.092134  "
      ]
     },
     "execution_count": 78,
     "metadata": {},
     "output_type": "execute_result"
    }
   ],
   "source": [
    "top_10_movies = df_ratings.groupby('movieId').size().nlargest(10).index\n",
    "top_10_movies_df = df_ratings[df_ratings['movieId'].isin(top_10_movies)]\n",
    "top_10_movies_df = top_10_movies_df.groupby('movieId').agg(\n",
    "    total_ratings=('rating', 'count'),\n",
    "    avg_rating=('rating', 'mean')\n",
    ").reset_index()\n",
    "top_10_movies_df = top_10_movies_df.merge(df_movies[['movieId', 'title']], on='movieId')\n",
    "top_10_movies_df = top_10_movies_df.sort_values(by='total_ratings', ascending=False)\n",
    "top_10_movies_df[['title', 'total_ratings', 'avg_rating']]\n"
   ]
  },
  {
   "cell_type": "code",
   "execution_count": 77,
   "id": "a504f1d2",
   "metadata": {},
   "outputs": [
    {
     "data": {
      "text/html": [
       "<div>\n",
       "<style scoped>\n",
       "    .dataframe tbody tr th:only-of-type {\n",
       "        vertical-align: middle;\n",
       "    }\n",
       "\n",
       "    .dataframe tbody tr th {\n",
       "        vertical-align: top;\n",
       "    }\n",
       "\n",
       "    .dataframe thead th {\n",
       "        text-align: right;\n",
       "    }\n",
       "</style>\n",
       "<table border=\"1\" class=\"dataframe\">\n",
       "  <thead>\n",
       "    <tr style=\"text-align: right;\">\n",
       "      <th></th>\n",
       "      <th>userId</th>\n",
       "      <th>total_ratings</th>\n",
       "      <th>avg_rating</th>\n",
       "    </tr>\n",
       "  </thead>\n",
       "  <tbody>\n",
       "    <tr>\n",
       "      <th>8</th>\n",
       "      <td>175325</td>\n",
       "      <td>33332</td>\n",
       "      <td>3.077808</td>\n",
       "    </tr>\n",
       "    <tr>\n",
       "      <th>2</th>\n",
       "      <td>17035</td>\n",
       "      <td>9577</td>\n",
       "      <td>2.567819</td>\n",
       "    </tr>\n",
       "    <tr>\n",
       "      <th>5</th>\n",
       "      <td>55653</td>\n",
       "      <td>9178</td>\n",
       "      <td>3.280290</td>\n",
       "    </tr>\n",
       "    <tr>\n",
       "      <th>6</th>\n",
       "      <td>123465</td>\n",
       "      <td>9044</td>\n",
       "      <td>2.528859</td>\n",
       "    </tr>\n",
       "    <tr>\n",
       "      <th>7</th>\n",
       "      <td>171795</td>\n",
       "      <td>9016</td>\n",
       "      <td>3.181954</td>\n",
       "    </tr>\n",
       "    <tr>\n",
       "      <th>1</th>\n",
       "      <td>10202</td>\n",
       "      <td>7748</td>\n",
       "      <td>3.411655</td>\n",
       "    </tr>\n",
       "    <tr>\n",
       "      <th>9</th>\n",
       "      <td>198515</td>\n",
       "      <td>7594</td>\n",
       "      <td>2.822755</td>\n",
       "    </tr>\n",
       "    <tr>\n",
       "      <th>4</th>\n",
       "      <td>49305</td>\n",
       "      <td>7488</td>\n",
       "      <td>3.208868</td>\n",
       "    </tr>\n",
       "    <tr>\n",
       "      <th>3</th>\n",
       "      <td>22744</td>\n",
       "      <td>7372</td>\n",
       "      <td>2.640193</td>\n",
       "    </tr>\n",
       "    <tr>\n",
       "      <th>0</th>\n",
       "      <td>7858</td>\n",
       "      <td>7322</td>\n",
       "      <td>1.549850</td>\n",
       "    </tr>\n",
       "  </tbody>\n",
       "</table>\n",
       "</div>"
      ],
      "text/plain": [
       "   userId  total_ratings  avg_rating\n",
       "8  175325          33332    3.077808\n",
       "2   17035           9577    2.567819\n",
       "5   55653           9178    3.280290\n",
       "6  123465           9044    2.528859\n",
       "7  171795           9016    3.181954\n",
       "1   10202           7748    3.411655\n",
       "9  198515           7594    2.822755\n",
       "4   49305           7488    3.208868\n",
       "3   22744           7372    2.640193\n",
       "0    7858           7322    1.549850"
      ]
     },
     "execution_count": 77,
     "metadata": {},
     "output_type": "execute_result"
    }
   ],
   "source": [
    "top_10_users = df_ratings.groupby('userId').size().nlargest(10).index\n",
    "top_10_users_df = df_ratings[df_ratings['userId'].isin(top_10_users)]\n",
    "top_10_users_df = top_10_users_df.groupby('userId').agg(\n",
    "    total_ratings=('rating', 'count'),\n",
    "    avg_rating=('rating', 'mean')\n",
    ").reset_index()\n",
    "top_10_users_df = top_10_users_df.sort_values(by='total_ratings', ascending=False)\n",
    "top_10_users_df"
   ]
  },
  {
   "cell_type": "markdown",
   "id": "30381c17",
   "metadata": {},
   "source": [
    "---\n",
    "\n",
    "## Simple Recommendation System\n",
    "\n",
    "### The Top N Most Popular Movies (Based on Ratings)\n",
    "\n",
    "This function returns the top **N highest-rated movies** from the dataset, while ensuring each movie has received at least `min_votes` ratings.  \n",
    "This is important to avoid recommending obscure or unknown movies that may have an artificially high rating from only a few votes.\n",
    "\n",
    "**Why we use this:**\n",
    "- It's a simple **baseline recommender** for new users (cold start problem).\n",
    "- It ensures popularity is backed by **statistical significance** (enough votes).\n",
    "\n",
    "You can adjust `top_n` to control how many results to return, and `min_votes` to filter out poorly rated or niche content.\n"
   ]
  },
  {
   "cell_type": "code",
   "execution_count": 12,
   "id": "6056b0a8",
   "metadata": {},
   "outputs": [],
   "source": [
    "def recommend_popular(df_ratings, df_movies, top_n=10, min_votes=50):\n",
    "    rating_stats = df_ratings.groupby('movieId')['rating'].agg(['mean', 'count']).reset_index()\n",
    "    rating_stats = rating_stats[rating_stats['count'] >= min_votes]\n",
    "    top_movies = rating_stats.sort_values('mean', ascending=False).head(top_n)\n",
    "    return df_movies[df_movies['movieId'].isin(top_movies['movieId'])]['title'].tolist()\n"
   ]
  },
  {
   "cell_type": "code",
   "execution_count": 19,
   "id": "5b04be2d",
   "metadata": {},
   "outputs": [
    {
     "name": "stdout",
     "output_type": "stream",
     "text": [
      "Top 10 most popular movies (highly rated & widely voted):\n",
      "1. Shawshank Redemption, The (1994)\n",
      "2. Godfather, The (1972)\n",
      "3. Planet Earth (2006)\n",
      "4. Band of Brothers (2001)\n",
      "5. Planet Earth II (2016)\n",
      "6. Cosmos\n",
      "7. Blue Planet II (2017)\n",
      "8. Twin Peaks (1989)\n",
      "9. Parasite (2019)\n",
      "10. Twelve Angry Men (1954)\n"
     ]
    }
   ],
   "source": [
    "top_popular = recommend_popular(df_ratings, df_movies, top_n=10)\n",
    "print(\"Top 10 most popular movies (highly rated & widely voted):\")\n",
    "for i, title in enumerate(top_popular, 1):\n",
    "    print(f\"{i}. {title}\")"
   ]
  },
  {
   "cell_type": "markdown",
   "id": "9a0a375f",
   "metadata": {},
   "source": [
    "### Recommend Top Movies by Genre\n",
    "\n",
    "This function recommends the **top N highest-rated movies within a specific genre**, based on user ratings.\n",
    "\n",
    "It filters the dataset to include only movies that belong to the selected genre, then applies the `recommend_popular` logic to:\n",
    "- Ensure each movie has received at least `min_votes` ratings\n",
    "- Sort by average rating\n",
    "- Return the top N movie titles\n",
    "\n",
    "**Why we use this:**\n",
    "- It allows users to explore the best-rated content in a genre they’re interested in (e.g. Action, Drama, Comedy).\n",
    "- It's a simple and interpretable way to mix **content-based filtering** with **popularity filtering**.\n",
    "\n",
    "You can easily adjust `genre`, `top_n`, or `min_votes` to customize the recommendation scope.\n"
   ]
  },
  {
   "cell_type": "code",
   "execution_count": 20,
   "id": "7eb0cb25",
   "metadata": {},
   "outputs": [],
   "source": [
    "def recommend_by_genre(df_movies, df_ratings, genre, top_n=10, min_votes=30):\n",
    "    filtered_movies = df_movies[df_movies['genres'].str.contains(genre, na=False)]\n",
    "    filtered_ratings = df_ratings[df_ratings['movieId'].isin(filtered_movies['movieId'])]\n",
    "    return recommend_popular(filtered_ratings, filtered_movies, top_n=top_n, min_votes=min_votes)"
   ]
  },
  {
   "cell_type": "code",
   "execution_count": 22,
   "id": "b36b2844",
   "metadata": {},
   "outputs": [
    {
     "name": "stdout",
     "output_type": "stream",
     "text": [
      "Top 10 Comedy Movies:\n",
      "1. Pulp Fiction (1994)\n",
      "2. Dr. Strangelove or: How I Learned to Stop Worrying and Love the Bomb (1964)\n",
      "3. Thin Man, The (1934)\n",
      "4. Monty Python and the Holy Grail (1975)\n",
      "5. Sting, The (1973)\n",
      "6. Life Is Beautiful (La Vita è bella) (1997)\n",
      "7. Pride and Prejudice (1980)\n",
      "8. It's Such a Beautiful Day (2011)\n",
      "9. There Once Was a Dog (1982)\n",
      "10. Parasite (2019)\n"
     ]
    }
   ],
   "source": [
    "genre = 'Comedy'\n",
    "top_genre = recommend_by_genre(df_movies, df_ratings, genre=genre, top_n=10)\n",
    "print(f\"Top 10 {genre} Movies:\")\n",
    "for i, title in enumerate(top_genre, 1):\n",
    "    print(f\"{i}. {title}\")"
   ]
  },
  {
   "cell_type": "markdown",
   "id": "ff690fcb",
   "metadata": {},
   "source": [
    "### Recommend Top Movies by Year\n",
    "\n",
    "This function returns the **top N highest-rated movies released in a given year**, using a similar approach to `recommend_popular`.\n",
    "\n",
    "It works by:\n",
    "- Filtering `df_movies` to keep only movies released in the specified `year`\n",
    "- Selecting all ratings associated with those movies\n",
    "- Recommending the most highly-rated ones that meet the `min_votes` threshold\n",
    "\n",
    "**Why we use this:**\n",
    "- It lets users explore the best-rated films from a particular year (e.g. best of 1999).\n",
    "- It combines **temporal filtering** with **rating-based popularity**, making it useful for trend-based or historical exploration.\n",
    "\n",
    "Parameters like `top_n` and `min_votes` can be adjusted to broaden or narrow the recommendations.\n"
   ]
  },
  {
   "cell_type": "code",
   "execution_count": 82,
   "id": "4a2a3fbe",
   "metadata": {},
   "outputs": [],
   "source": [
    "def recommend_by_year(df_movies, df_ratings, year, top_n=10, min_votes=30):\n",
    "    filtered_movies = df_movies[df_movies['year'] == float(year)]\n",
    "    filtered_ratings = df_ratings[df_ratings['movieId'].isin(filtered_movies['movieId'])]\n",
    "    return recommend_popular(filtered_ratings, filtered_movies, top_n=top_n, min_votes=min_votes)\n"
   ]
  },
  {
   "cell_type": "code",
   "execution_count": 83,
   "id": "873976d8",
   "metadata": {},
   "outputs": [
    {
     "name": "stdout",
     "output_type": "stream",
     "text": [
      "Top Movies from 1995:\n",
      "1. Persuasion (1995)\n",
      "2. Seven (a.k.a. Se7en) (1995)\n",
      "3. Usual Suspects, The (1995)\n",
      "4. Antonia's Line (Antonia) (1995)\n",
      "5. Hate (Haine, La) (1995)\n",
      "6. Braveheart (1995)\n",
      "7. Ghost in the Shell (Kôkaku kidôtai) (1995)\n",
      "8. Wallace & Gromit: A Close Shave (1995)\n",
      "9. Pride and Prejudice (1995)\n",
      "10. Whisper of the Heart (Mimi wo sumaseba) (1995)\n"
     ]
    }
   ],
   "source": [
    "year = 1995\n",
    "top_year = recommend_by_year(df_movies, df_ratings, year=year, top_n=10)\n",
    "print(f\"Top Movies from {year}:\")\n",
    "for i, title in enumerate(top_year, 1):\n",
    "    print(f\"{i}. {title}\")\n"
   ]
  },
  {
   "cell_type": "markdown",
   "id": "0bb08769",
   "metadata": {},
   "source": [
    "### Recommend for a New User (Based on Preferred Genres)\n",
    "\n",
    "This function provides movie recommendations tailored to a **new user** who hasn't rated anything yet, based on their **preferred genres**.\n",
    "\n",
    "It works by:\n",
    "- Filtering the movie dataset to include only movies that match at least one of the user’s selected genres\n",
    "- Reusing the `recommend_popular` logic to sort by average rating and ensure each movie has enough votes\n",
    "\n",
    "**Why we use this:**\n",
    "- This is a **cold-start solution** for new users with no rating history\n",
    "- It provides **personalized but safe** recommendations using content (genres) + popularity (ratings)\n",
    "\n",
    "You can customize:\n",
    "- `preferred_genres`: a list like `['Action', 'Comedy']`\n",
    "- `top_n`: number of recommendations\n",
    "- `min_votes`: to filter out obscure or low-confidence movies\n"
   ]
  },
  {
   "cell_type": "code",
   "execution_count": 26,
   "id": "8323ae71",
   "metadata": {},
   "outputs": [],
   "source": [
    "def recommend_for_new_user(df_movies, df_ratings, preferred_genres, top_n=10, min_votes=20):\n",
    "    genre_mask = df_movies['genres'].apply(lambda g: any(gen in g for gen in preferred_genres))\n",
    "    filtered_movies = df_movies[genre_mask]\n",
    "    filtered_ratings = df_ratings[df_ratings['movieId'].isin(filtered_movies['movieId'])]\n",
    "    return recommend_popular(filtered_ratings, filtered_movies, top_n=top_n, min_votes=min_votes)\n"
   ]
  },
  {
   "cell_type": "code",
   "execution_count": 28,
   "id": "5a426508",
   "metadata": {},
   "outputs": [
    {
     "name": "stdout",
     "output_type": "stream",
     "text": [
      "Recommendations for a new user who likes Action and Sci-Fi:\n",
      "1. North by Northwest (1959)\n",
      "2. Seven Samurai (Shichinin no samurai) (1954)\n",
      "3. Fight Club (1999)\n",
      "4. City of God (Cidade de Deus) (2002)\n",
      "5. Dark Knight, The (2008)\n",
      "6. Band of Brothers (2001)\n",
      "7. The Godfather Family: A Look Inside (1990)\n",
      "8. Spider-Man: Into the Spider-Verse (2018)\n",
      "9. Firefly (2002)\n",
      "10. Spider-Man: Across the Spider-Verse (2023)\n"
     ]
    }
   ],
   "source": [
    "preferred_genres = ['Action', 'Sci-Fi']\n",
    "cold_recos = recommend_for_new_user(df_movies, df_ratings, preferred_genres=preferred_genres, top_n=10)\n",
    "print(\"Recommendations for a new user who likes Action and Sci-Fi:\")\n",
    "for i, title in enumerate(cold_recos, 1):\n",
    "    print(f\"{i}. {title}\")\n"
   ]
  },
  {
   "cell_type": "markdown",
   "id": "5e2e7c4b",
   "metadata": {},
   "source": [
    "---\n",
    "## Complex Recommender system\n",
    "\n",
    "### Item-Item Collaborative Filtering (Hybrid)\n",
    "\n",
    "In this section, we implement a **hybrid item-based recommender system** that combines:\n",
    "\n",
    "- **Collaborative Filtering**: Based on how users rate different movies\n",
    "- **Content-Based Filtering**: Based on genre similarity between movies\n",
    "\n",
    "#### Why use Item-Item CF?\n",
    "Item-Item CF recommends movies **similar to those the user already liked**, rather than finding similar users. It's:\n",
    "- More stable (item preferences change less often than user profiles)\n",
    "- Scalable for large user bases\n",
    "- Ideal for users with a clear watch history\n",
    "\n",
    "\n",
    "\n",
    "#### What's happening here?\n",
    "\n",
    "1. **Genre Preprocessing & Vectorization**:\n",
    "   - Genres are tokenized using `CountVectorizer` to allow content-based similarity.\n",
    "   - A genre-based similarity matrix is built using cosine similarity.\n",
    "\n",
    "2. **Movie-User Rating Matrix**:\n",
    "   - A sparse matrix is constructed where each row is a movie and each column is a user.\n",
    "   - This enables rating-based similarity between movies.\n",
    "\n",
    "3. **`recommend_hybrid(movie_title, alpha)`**:\n",
    "   - Given a movie title, it finds similar movies using a weighted combination of:\n",
    "     - Genre similarity\n",
    "     - Rating similarity (from other users)\n",
    "   - `alpha` controls the balance (0 = full content, 1 = full collaborative).\n",
    "\n",
    "4. **`recommend_hybrid_for_user(user_id)`**:\n",
    "   - For a given user, retrieves movies they liked (e.g., rated ≥ 4).\n",
    "   - For each liked movie, it retrieves similar movies using `recommend_hybrid`.\n",
    "   - Aggregates all results and filters out movies already seen.\n",
    "\n"
   ]
  },
  {
   "cell_type": "code",
   "execution_count": null,
   "id": "97a251a9",
   "metadata": {},
   "outputs": [
    {
     "name": "stderr",
     "output_type": "stream",
     "text": [
      "c:\\Users\\Nasse\\AppData\\Local\\Programs\\Python\\Python312\\Lib\\site-packages\\sklearn\\feature_extraction\\text.py:517: UserWarning: The parameter 'token_pattern' will not be used since 'tokenizer' is not None'\n",
      "  warnings.warn(\n"
     ]
    }
   ],
   "source": [
    "\n",
    "df_movies['genres'] = df_movies['genres'].fillna(\"\")\n",
    "\n",
    "rated_movie_ids = df_ratings['movieId'].unique()\n",
    "df_common_movies = df_movies[df_movies['movieId'].isin(rated_movie_ids)].reset_index(drop=True)\n",
    "\n",
    "movie_id_to_index = pd.Series(df_common_movies.index, index=df_common_movies['movieId']).to_dict()\n",
    "index_to_title = pd.Series(df_common_movies['title'].values, index=df_common_movies.index).to_dict()\n",
    "title_to_index = pd.Series(df_common_movies.index, index=df_common_movies['title']).to_dict()\n",
    "\n",
    "\n",
    "vectorizer = CountVectorizer(tokenizer=lambda x: x.split('|'))\n",
    "genre_matrix_sparse = vectorizer.fit_transform(df_common_movies['genres'])\n",
    "\n",
    "\n",
    "df_ratings_filtered = df_ratings[df_ratings['movieId'].isin(rated_movie_ids)].copy()\n",
    "df_ratings_filtered['movie_index'] = df_ratings_filtered['movieId'].map(movie_id_to_index)\n",
    "df_ratings_filtered['user_index'] = df_ratings_filtered['userId'].astype(\"category\").cat.codes\n",
    "\n",
    "movie_user_matrix = csr_matrix((\n",
    "    df_ratings_filtered['rating'],\n",
    "    (df_ratings_filtered['movie_index'], df_ratings_filtered['user_index'])\n",
    "))\n",
    "\n",
    "\n",
    "def recommend_hybrid(movie_title, top_n=5, alpha=0.5):\n",
    "    if movie_title not in title_to_index:\n",
    "        return []\n",
    "    \n",
    "    idx = title_to_index[movie_title]\n",
    "\n",
    "    genre_sim = cosine_similarity(genre_matrix_sparse[idx], genre_matrix_sparse).flatten()\n",
    "\n",
    "    rating_sim = cosine_similarity(movie_user_matrix[idx], movie_user_matrix).flatten()\n",
    "\n",
    "    combined_score = alpha * rating_sim + (1 - alpha) * genre_sim\n",
    "\n",
    "    top_indices = combined_score.argsort()[::-1]\n",
    "    top_indices = [i for i in top_indices if i != idx][:top_n]\n",
    "\n",
    "    return [index_to_title[i] for i in top_indices]\n",
    "\n",
    "def recommend_hybrid_for_user(user_id, top_n=10, alpha=0.5, like_threshold=4.0):\n",
    "    if user_id not in df_ratings['userId'].unique():\n",
    "        return []\n",
    "\n",
    "    liked = df_ratings_filtered[\n",
    "        (df_ratings_filtered['userId'] == user_id) &\n",
    "        (df_ratings_filtered['rating'] >= like_threshold)\n",
    "    ]['movie_index'].dropna().unique()\n",
    "\n",
    "    if len(liked) == 0:\n",
    "        return []\n",
    "\n",
    "    all_recos = []\n",
    "    for idx in liked:\n",
    "        recos = recommend_hybrid(index_to_title[idx], top_n=top_n, alpha=alpha)\n",
    "        all_recos.extend(recos)\n",
    "\n",
    "    reco_counts = Counter(all_recos)\n",
    "\n",
    "    already_seen = df_ratings_filtered[df_ratings_filtered['userId'] == user_id]['movie_index'].map(index_to_title).dropna().tolist()\n",
    "    filtered_recos = [title for title, _ in reco_counts.most_common() if title not in already_seen]\n",
    "\n",
    "    return filtered_recos[:top_n]"
   ]
  },
  {
   "cell_type": "code",
   "execution_count": 84,
   "id": "3d4b0be9",
   "metadata": {},
   "outputs": [
    {
     "name": "stdout",
     "output_type": "stream",
     "text": [
      "Top 10 Hybrid Recommendations for 'Toy Story (1995)' with alpha = 0.5:\n",
      "1. Toy Story 2 (1999)\n",
      "2. Monsters, Inc. (2001)\n",
      "3. Shrek (2001)\n",
      "4. Finding Nemo (2003)\n",
      "5. Bug's Life, A (1998)\n",
      "6. Aladdin (1992)\n",
      "7. Antz (1998)\n",
      "8. Toy Story 3 (2010)\n",
      "9. Emperor's New Groove, The (2000)\n",
      "10. Incredibles, The (2004)\n"
     ]
    }
   ],
   "source": [
    "movie_title = \"Toy Story (1995)\"\n",
    "alpha = 0.5\n",
    "top_n = 10\n",
    "\n",
    "top_hybrid_item_item_cf = recommend_hybrid(movie_title=movie_title, top_n=10, alpha=alpha)\n",
    "print(f\"Top {top_n} Hybrid Recommendations for '{movie_title}' with alpha = {alpha}:\")\n",
    "for i, title in enumerate(top_hybrid_item_item_cf, 1):\n",
    "    print(f\"{i}. {title}\")"
   ]
  },
  {
   "cell_type": "code",
   "execution_count": 85,
   "id": "50054a9c",
   "metadata": {},
   "outputs": [
    {
     "name": "stdout",
     "output_type": "stream",
     "text": [
      "Top 10 Hybrid Recommendations for User 1 with alpha = 0.5:\n",
      "1. Full Metal Jacket (1987)\n",
      "2. Piano, The (1993)\n",
      "3. Raising Arizona (1987)\n",
      "4. To Kill a Mockingbird (1962)\n",
      "5. Killing Fields, The (1984)\n",
      "6. Ordinary People (1980)\n",
      "7. Godfather, The (1972)\n",
      "8. Heathers (1989)\n",
      "9. Star Wars: Episode I - The Phantom Menace (1999)\n",
      "10. Raiders of the Lost Ark (Indiana Jones and the Raiders of the Lost Ark) (1981)\n"
     ]
    }
   ],
   "source": [
    "user_id = 1\n",
    "top_n = 10\n",
    "alpha = 0.5\n",
    "\n",
    "top_hybrid_item_item_cf_for_user = recommend_hybrid_for_user(user_id=user_id, top_n=top_n, alpha=alpha)\n",
    "print(f\"Top {top_n} Hybrid Recommendations for User {user_id} with alpha = {alpha}:\")\n",
    "for i, title in enumerate(top_hybrid_item_item_cf_for_user, 1):\n",
    "    print(f\"{i}. {title}\")"
   ]
  },
  {
   "cell_type": "markdown",
   "id": "9b8e5882",
   "metadata": {},
   "source": [
    "\n",
    "### User-User Collaborative Filtering (Hybrid)\n",
    "\n",
    "In this section, we implement a **hybrid recommender system** based on **user-to-user similarity**.  \n",
    "This approach uses both collaborative filtering (rating patterns between users) and content-based signals (genre preferences) to generate personalized movie recommendations.\n",
    "\n",
    "\n",
    "#### `build_user_user_cf()`\n",
    "This helper function prepares the core components for collaborative filtering:\n",
    "- Encodes user and movie IDs as integer indices\n",
    "- Builds a **sparse user-movie rating matrix** to compute user-to-user similarity\n",
    "- Returns useful dictionaries for mapping indices back to real user/movie IDs\n",
    "\n",
    "\n",
    "#### `recommend_user_user_hybrid()`\n",
    "\n",
    "This is the main hybrid recommender function for users. Here's what it does:\n",
    "\n",
    "##### Step-by-step:\n",
    "1. **Genre Vectorization**  \n",
    "   - Converts the genre column into a binary matrix using `CountVectorizer`, to compare genre preferences.\n",
    "\n",
    "2. **User Similarity Calculation**  \n",
    "   - Computes **cosine similarity** between the target user and all others, based on the ratings matrix.\n",
    "   - Selects the top `k_neighbors` most similar users.\n",
    "\n",
    "3. **User's Preferred Genres**  \n",
    "   - Extracts the genres of movies rated above `like_threshold` by the user.\n",
    "   - Builds a **normalized genre profile** representing the user’s content preferences.\n",
    "\n",
    "4. **Hybrid Scoring of Candidate Movies**  \n",
    "   For each film liked by similar users (but unseen by the target user), a **combined score** is computed:\n",
    "   ```\n",
    "   combined_score = (1 - genre_weight) * similarity + genre_weight * genre_affinity\n",
    "   ```\n",
    "   - `similarity`: how close the neighbor is to the user (based on ratings)\n",
    "   - `genre_affinity`: how well the movie matches the user’s genre profile\n",
    "   - `genre_weight`: controls the tradeoff between behavioral and content similarity\n",
    "\n",
    "5. **Final Recommendation**  \n",
    "   - Returns the top `N` unseen movies with the highest hybrid scores\n",
    "\n",
    "\n",
    "#### Why use this?\n",
    "- Works well for users with rating history (learns from similar people)\n",
    "- Includes **genre-awareness** to avoid recommending off-topic content\n",
    "- Helps balance **personalization** and **content alignment**\n"
   ]
  },
  {
   "cell_type": "code",
   "execution_count": null,
   "id": "1d3456f4",
   "metadata": {},
   "outputs": [],
   "source": [
    "def build_user_user_cf(df_ratings):\n",
    "    df_ratings['user_index'] = df_ratings['userId'].astype(\"category\").cat.codes\n",
    "    df_ratings['movie_index'] = df_ratings['movieId'].astype(\"category\").cat.codes\n",
    "\n",
    "    user_index_to_id = dict(enumerate(df_ratings['userId'].astype(\"category\").cat.categories))\n",
    "    movie_index_to_id = dict(enumerate(df_ratings['movieId'].astype(\"category\").cat.categories))\n",
    "\n",
    "    user_movie_matrix = csr_matrix((\n",
    "        df_ratings['rating'],\n",
    "        (df_ratings['user_index'], df_ratings['movie_index'])\n",
    "    ))\n",
    "\n",
    "    return user_movie_matrix, user_index_to_id, movie_index_to_id, df_ratings\n",
    "\n",
    "\n",
    "\n",
    "\n",
    "def recommend_user_user_hybrid(user_id, df_ratings, df_movies, top_n=10, like_threshold=4.0, k_neighbors=5, genre_weight=0.3):\n",
    "    df_movies = df_movies.copy()\n",
    "    df_movies['genres'] = df_movies['genres'].fillna(\"\")\n",
    "\n",
    "    vectorizer = CountVectorizer(tokenizer=lambda x: x.split('|'))\n",
    "    genre_matrix = vectorizer.fit_transform(df_movies['genres'])\n",
    "    genre_df = pd.DataFrame(genre_matrix.toarray(), columns=vectorizer.get_feature_names_out())\n",
    "    df_movies = pd.concat([df_movies, genre_df], axis=1)\n",
    "\n",
    "    user_movie_matrix, user_index_to_id, movie_index_to_id, df_ratings = build_user_user_cf(df_ratings)\n",
    "\n",
    "    if user_id not in df_ratings['userId'].values:\n",
    "        return []\n",
    "\n",
    "    user_id_to_index = {v: k for k, v in user_index_to_id.items()}\n",
    "    user_idx = user_id_to_index[user_id]\n",
    "\n",
    "    sim_vector = cosine_similarity(user_movie_matrix[user_idx], user_movie_matrix).flatten()\n",
    "    similar_users_idx = np.argsort(sim_vector)[::-1]\n",
    "    similar_users_idx = [i for i in similar_users_idx if i != user_idx][:k_neighbors]\n",
    "\n",
    "    liked_movies = df_ratings[(df_ratings['userId'] == user_id) & (df_ratings['rating'] >= like_threshold)]\n",
    "    liked_movie_ids = liked_movies['movieId'].unique()\n",
    "    liked_genres = df_movies[df_movies['movieId'].isin(liked_movie_ids)][genre_df.columns].sum()\n",
    "    liked_genres = liked_genres / liked_genres.sum()  \n",
    "\n",
    "    \n",
    "    seen_movie_ids = df_ratings[df_ratings['userId'] == user_id]['movieId'].unique()\n",
    "    score_dict = defaultdict(float)\n",
    "\n",
    "   \n",
    "    for neighbor_idx in similar_users_idx:\n",
    "        neighbor_id = user_index_to_id[neighbor_idx]\n",
    "        similarity = sim_vector[neighbor_idx]\n",
    "\n",
    "        neighbor_likes = df_ratings[\n",
    "            (df_ratings['userId'] == neighbor_id) &\n",
    "            (df_ratings['rating'] >= like_threshold)\n",
    "        ]\n",
    "\n",
    "        for _, row in neighbor_likes.iterrows():\n",
    "            movie_id = row['movieId']\n",
    "            if movie_id in seen_movie_ids:\n",
    "                continue\n",
    "\n",
    "            movie_row = df_movies[df_movies['movieId'] == movie_id]\n",
    "            if movie_row.empty:\n",
    "                continue\n",
    "            movie_genres = movie_row[genre_df.columns].values.flatten()\n",
    "            genre_affinity = np.dot(movie_genres, liked_genres.values)  \n",
    "\n",
    "            \n",
    "            combined_score = (1 - genre_weight) * similarity + genre_weight * genre_affinity\n",
    "            score_dict[movie_id] += combined_score\n",
    "\n",
    "\n",
    "    recommended_movie_ids = sorted(score_dict, key=score_dict.get, reverse=True)[:top_n]\n",
    "    titles = df_movies[df_movies['movieId'].isin(recommended_movie_ids)]['title'].tolist()\n",
    "\n",
    "    return titles"
   ]
  },
  {
   "cell_type": "code",
   "execution_count": 67,
   "id": "445314aa",
   "metadata": {},
   "outputs": [
    {
     "name": "stdout",
     "output_type": "stream",
     "text": [
      "Top 10 Recommendations for User 3 (User-User CF) with genre weight=1:\n",
      "1. Toy Story (1995)\n",
      "2. Ghost (1990)\n",
      "3. Snow White and the Seven Dwarfs (1937)\n",
      "4. E.T. the Extra-Terrestrial (1982)\n",
      "5. Sneakers (1992)\n",
      "6. Mulan (1998)\n",
      "7. Left Behind: The Movie (2000)\n",
      "8. Planet of the Apes (2001)\n",
      "9. Musketeer, The (2001)\n",
      "10. King Solomon's Mines (1937)\n"
     ]
    }
   ],
   "source": [
    "user_id = 3\n",
    "genre_weight = 1\n",
    "top_n = 10\n",
    "\n",
    "top_movie_for_user_hybrid = recommend_user_user_hybrid(user_id=user_id, df_ratings=df_ratings, df_movies=df_movies, top_n=top_n, genre_weight=genre_weight)\n",
    "print(f\"Top {top_n} Recommendations for User {user_id} (User-User CF) with genre weight={genre_weight}:\")\n",
    "for i, title in enumerate(top_movie_for_user_hybrid, 1):\n",
    "    print(f\"{i}. {title}\")\n"
   ]
  },
  {
   "cell_type": "markdown",
   "id": "432f0107",
   "metadata": {},
   "source": [
    "---\n",
    "## Manual Comparison: Recommendations for a Specific User\n",
    "\n",
    "To get an intuitive sense of how each hybrid recommender system performs, we manually inspect the top 10 recommendations for a specific user (`user_id = 42`). This example helps visualize the difference in recommendation strategies between the **User-User Hybrid** and the **Item-Item Hybrid** approaches.\n",
    "\n",
    "The goal here is to qualitatively assess the coherence, diversity, and relevance of the results returned by each model.\n",
    "\n"
   ]
  },
  {
   "cell_type": "code",
   "execution_count": 96,
   "id": "5687c64a",
   "metadata": {},
   "outputs": [
    {
     "name": "stderr",
     "output_type": "stream",
     "text": [
      "c:\\Users\\Nasse\\AppData\\Local\\Programs\\Python\\Python312\\Lib\\site-packages\\sklearn\\feature_extraction\\text.py:517: UserWarning: The parameter 'token_pattern' will not be used since 'tokenizer' is not None'\n",
      "  warnings.warn(\n"
     ]
    },
    {
     "name": "stdout",
     "output_type": "stream",
     "text": [
      "Top 10 Recommendations for User 42 (User-User Hybrid):\n",
      "1. Braveheart (1995)\n",
      "2. Forrest Gump (1994)\n",
      "3. Jurassic Park (1993)\n",
      "4. Rear Window (1954)\n",
      "5. E.T. the Extra-Terrestrial (1982)\n",
      "6. Alien (1979)\n",
      "7. Chinatown (1974)\n",
      "8. Great Escape, The (1963)\n",
      "9. Gandhi (1982)\n",
      "10. Star Trek VI: The Undiscovered Country (1991)\n",
      "\n",
      "==================================================\n",
      "\n",
      "Top 10 Recommendations for User 42 (Item-Item Hybrid):\n",
      "1. Jurassic Park (1993)\n",
      "2. Star Trek: Generations (1994)\n",
      "3. Twister (1996)\n",
      "4. Hunt for Red October, The (1990)\n",
      "5. Killing Fields, The (1984)\n",
      "6. Total Recall (1990)\n",
      "7. Abyss, The (1989)\n",
      "8. Stand by Me (1986)\n",
      "9. Firm, The (1993)\n",
      "10. Speed (1994)\n"
     ]
    }
   ],
   "source": [
    "user_id = 42\n",
    "top_n = 10\n",
    "\n",
    "top_user_user_example = recommend_user_user_hybrid(user_id=user_id, df_ratings=df_ratings, df_movies=df_movies, top_n=top_n)\n",
    "print(f\"Top {top_n} Recommendations for User {user_id} (User-User Hybrid):\")\n",
    "for i, title in enumerate(top_user_user_example, 1):\n",
    "    print(f\"{i}. {title}\")\n",
    "\n",
    "print(\"\\n\" + \"=\"*50 + \"\\n\")\n",
    "\n",
    "top_item_item_example = recommend_hybrid_for_user(user_id=user_id, top_n=top_n)\n",
    "print(f\"Top {top_n} Recommendations for User {user_id} (Item-Item Hybrid):\")\n",
    "for i, title in enumerate(top_item_item_example, 1):\n",
    "    print(f\"{i}. {title}\")"
   ]
  },
  {
   "cell_type": "markdown",
   "id": "f17650c6",
   "metadata": {},
   "source": [
    "### Interpretation of the Hybrid Recommendations\n",
    "\n",
    "The recommendations generated by the two hybrid systems—**User-User Hybrid** and **Item-Item Hybrid**—are highly consistent with the expected behavior of each model.\n",
    "\n",
    "- The **User-User Hybrid** model returned a list of diverse, critically acclaimed films across multiple genres (e.g., *Braveheart*, *Forrest Gump*, *Gandhi*, *Alien*, *Rear Window*). This reflects the influence of similar users' preferences and showcases a more **cinéphile-oriented profile**, where recommendations span various eras and styles.\n",
    "\n",
    "- The **Item-Item Hybrid** model produced recommendations that were more **stylistically consistent**, leaning towards mainstream action, sci-fi, and thriller films (e.g., *Jurassic Park*, *Twister*, *Total Recall*, *Speed*). These results indicate the model’s ability to identify **content-level or rating-based similarities** between movies, regardless of broader user diversity.\n",
    "\n",
    "This contrast demonstrates how the two models complement each other:  \n",
    "one captures **user taste diversity**, while the other ensures **genre coherence and item similarity**. Both models behave as expected and reinforce the robustness of the hybrid recommendation approach."
   ]
  }
 ],
 "metadata": {
  "kernelspec": {
   "display_name": "Python 3",
   "language": "python",
   "name": "python3"
  },
  "language_info": {
   "codemirror_mode": {
    "name": "ipython",
    "version": 3
   },
   "file_extension": ".py",
   "mimetype": "text/x-python",
   "name": "python",
   "nbconvert_exporter": "python",
   "pygments_lexer": "ipython3",
   "version": "3.12.3"
  }
 },
 "nbformat": 4,
 "nbformat_minor": 5
}
